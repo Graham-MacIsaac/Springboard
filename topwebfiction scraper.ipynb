{
 "cells": [
  {
   "cell_type": "code",
   "execution_count": 47,
   "id": "5bc2a4eb",
   "metadata": {},
   "outputs": [],
   "source": [
    "import requests\n",
    "import re\n",
    "from bs4 import BeautifulSoup\n",
    "from urllib.request import urlopen"
   ]
  },
  {
   "cell_type": "code",
   "execution_count": 151,
   "id": "8e1155e0",
   "metadata": {},
   "outputs": [],
   "source": [
    "response = requests.get(\"https://topwebfiction.com/?ranking=at\")\n",
    "soup = BeautifulSoup(response.text, 'html.parser')\n",
    "story_titles = soup.findAll('span', attrs={\"class\":\"title\"})\n",
    "\n",
    "titles = []\n",
    "for row in story_titles:\n",
    "    titles.append(row.text.strip())"
   ]
  },
  {
   "cell_type": "code",
   "execution_count": 42,
   "id": "a5acc0ca",
   "metadata": {},
   "outputs": [
    {
     "data": {
      "text/plain": [
       "['A Practical Guide to Evil',\n",
       " 'Worm',\n",
       " 'Ward',\n",
       " 'The Wandering Inn',\n",
       " 'Metaworld Chronicles']"
      ]
     },
     "execution_count": 42,
     "metadata": {},
     "output_type": "execute_result"
    }
   ],
   "source": [
    "titles[0:5]"
   ]
  },
  {
   "cell_type": "code",
   "execution_count": 48,
   "id": "9575ddd7",
   "metadata": {},
   "outputs": [],
   "source": [
    "story_authors = soup.findAll('span', attrs={\"class\":\"byline\"})\n",
    "\n",
    "authors = []\n",
    "for row in story_authors:\n",
    "    authors.append(row.text.strip())\n",
    "\n",
    "for x in range(len(authors)):\n",
    "    authors[x] = re.sub('by ','',authors[x])"
   ]
  },
  {
   "cell_type": "code",
   "execution_count": 61,
   "id": "6d32f10f",
   "metadata": {},
   "outputs": [
    {
     "data": {
      "text/plain": [
       "['ErraticErrata', 'Wildbow', 'wildbow', 'pirateaba', 'Wutosama']"
      ]
     },
     "execution_count": 61,
     "metadata": {},
     "output_type": "execute_result"
    }
   ],
   "source": [
    "authors[0:5]"
   ]
  },
  {
   "cell_type": "code",
   "execution_count": 62,
   "id": "88129cd1",
   "metadata": {
    "scrolled": false
   },
   "outputs": [],
   "source": [
    "story_votes = soup.findAll('td', attrs={\"class\":\"info\"})\n",
    "votes = []\n",
    "for x in story_votes:\n",
    "    votes.append(x.text)\n",
    "votes2 = votes\n",
    "for x in range(len(votes)):\n",
    "    votes2[x] = re.sub(r'\\n', '', str(votes[x]))\n",
    "    votes2[x] = re.sub(r'\\xa0boosters', '', str(votes2[x]))"
   ]
  },
  {
   "cell_type": "code",
   "execution_count": 63,
   "id": "c3b9abf8",
   "metadata": {},
   "outputs": [
    {
     "data": {
      "text/plain": [
       "['47465', '39102', '24105', '22278', '20001']"
      ]
     },
     "execution_count": 63,
     "metadata": {},
     "output_type": "execute_result"
    }
   ],
   "source": [
    "votes2[0:5]"
   ]
  },
  {
   "cell_type": "code",
   "execution_count": 105,
   "id": "b908b622",
   "metadata": {},
   "outputs": [],
   "source": [
    "story_tags = soup.findAll('p', attrs={\"class\":\"tags\"})\n",
    "tags = []\n",
    "for x in story_tags:\n",
    "    tags.append(x.text)"
   ]
  },
  {
   "cell_type": "code",
   "execution_count": 106,
   "id": "e3f4f12d",
   "metadata": {},
   "outputs": [
    {
     "data": {
      "text/plain": [
       "[['adventure',\n",
       "  'anti-hero',\n",
       "  'coming-of-age',\n",
       "  'fantasy',\n",
       "  'magic',\n",
       "  'young-adult',\n",
       "  ''],\n",
       " ['action',\n",
       "  'adventure',\n",
       "  'complete',\n",
       "  'crime',\n",
       "  'dark',\n",
       "  'high-school',\n",
       "  'modern-supernatural',\n",
       "  'superhero',\n",
       "  'teenagers',\n",
       "  '']]"
      ]
     },
     "execution_count": 106,
     "metadata": {},
     "output_type": "execute_result"
    }
   ],
   "source": [
    "for x in range(len(tags)):\n",
    "    tags[x] = re.sub(' ', '-', str(tags[x]))\n",
    "    tags[x] = re.sub(r'\\n', ' ', str(tags[x]))\n",
    "    tags[x] = re.split(' ', str(tags[x]))\n",
    "tags[0:2]"
   ]
  },
  {
   "cell_type": "code",
   "execution_count": 173,
   "id": "8421b12f",
   "metadata": {},
   "outputs": [],
   "source": [
    "links = []\n",
    "for link in soup.find_all('a', attrs={'href': re.compile(\"^https://topwebfiction.com/listings/\")}):\n",
    "    # display the actual urls\n",
    "    links.append(link.get('href'))  "
   ]
  },
  {
   "cell_type": "code",
   "execution_count": 196,
   "id": "adcd357f",
   "metadata": {},
   "outputs": [
    {
     "data": {
      "text/plain": [
       "['https://topwebfiction.com/listings/a-practical-guide-to-evil/',\n",
       " 'https://topwebfiction.com/listings/worm/',\n",
       " 'https://topwebfiction.com/listings/ward/',\n",
       " 'https://topwebfiction.com/listings/the-wandering-inn/',\n",
       " 'https://topwebfiction.com/listings/metaworld-chronicles/']"
      ]
     },
     "execution_count": 196,
     "metadata": {},
     "output_type": "execute_result"
    }
   ],
   "source": [
    "links[0:5]"
   ]
  },
  {
   "cell_type": "code",
   "execution_count": 194,
   "id": "2cde1f71",
   "metadata": {},
   "outputs": [],
   "source": [
    "for x in links:\n",
    "    response = requests.get(x)\n",
    "    soup = BeautifulSoup(response.text, 'html.parser')\n",
    "    related_stories_soup = soup.findAll('span', attrs={\"class\":\"title\"})\n",
    "    for y in range(len(links)):        \n",
    "        related_stories[y] = []\n",
    "        for x in related_stories_soup:\n",
    "            related_stories[y].append(x.text)"
   ]
  },
  {
   "cell_type": "code",
   "execution_count": 195,
   "id": "72dd06d9",
   "metadata": {},
   "outputs": [
    {
     "data": {
      "text/plain": [
       "[['The Law Unto Herself Chronicles',\n",
       "  'The War of the Vessel',\n",
       "  'The Mad One',\n",
       "  'Super!',\n",
       "  'Path of the Dominator',\n",
       "  'Omegas',\n",
       "  'Oktober',\n",
       "  'Mists of Kel Doran: Dragon-Touched',\n",
       "  'Metal Shadow',\n",
       "  'Legacy of Kail',\n",
       "  'Azarinth Healer',\n",
       "  'A Practical Guide to Evil',\n",
       "  'Beneath the Dragoneye Moons',\n",
       "  'The Wandering Inn',\n",
       "  'Salvos',\n",
       "  'Vigor Mortis',\n",
       "  'Metaworld Chronicles',\n",
       "  'Tower of Somnus',\n",
       "  'Forge of Destiny',\n",
       "  'The Perfect Run'],\n",
       " ['The Law Unto Herself Chronicles',\n",
       "  'The War of the Vessel',\n",
       "  'The Mad One',\n",
       "  'Super!',\n",
       "  'Path of the Dominator',\n",
       "  'Omegas',\n",
       "  'Oktober',\n",
       "  'Mists of Kel Doran: Dragon-Touched',\n",
       "  'Metal Shadow',\n",
       "  'Legacy of Kail',\n",
       "  'Azarinth Healer',\n",
       "  'A Practical Guide to Evil',\n",
       "  'Beneath the Dragoneye Moons',\n",
       "  'The Wandering Inn',\n",
       "  'Salvos',\n",
       "  'Vigor Mortis',\n",
       "  'Metaworld Chronicles',\n",
       "  'Tower of Somnus',\n",
       "  'Forge of Destiny',\n",
       "  'The Perfect Run'],\n",
       " ['The Law Unto Herself Chronicles',\n",
       "  'The War of the Vessel',\n",
       "  'The Mad One',\n",
       "  'Super!',\n",
       "  'Path of the Dominator',\n",
       "  'Omegas',\n",
       "  'Oktober',\n",
       "  'Mists of Kel Doran: Dragon-Touched',\n",
       "  'Metal Shadow',\n",
       "  'Legacy of Kail',\n",
       "  'Azarinth Healer',\n",
       "  'A Practical Guide to Evil',\n",
       "  'Beneath the Dragoneye Moons',\n",
       "  'The Wandering Inn',\n",
       "  'Salvos',\n",
       "  'Vigor Mortis',\n",
       "  'Metaworld Chronicles',\n",
       "  'Tower of Somnus',\n",
       "  'Forge of Destiny',\n",
       "  'The Perfect Run'],\n",
       " ['The Law Unto Herself Chronicles',\n",
       "  'The War of the Vessel',\n",
       "  'The Mad One',\n",
       "  'Super!',\n",
       "  'Path of the Dominator',\n",
       "  'Omegas',\n",
       "  'Oktober',\n",
       "  'Mists of Kel Doran: Dragon-Touched',\n",
       "  'Metal Shadow',\n",
       "  'Legacy of Kail',\n",
       "  'Azarinth Healer',\n",
       "  'A Practical Guide to Evil',\n",
       "  'Beneath the Dragoneye Moons',\n",
       "  'The Wandering Inn',\n",
       "  'Salvos',\n",
       "  'Vigor Mortis',\n",
       "  'Metaworld Chronicles',\n",
       "  'Tower of Somnus',\n",
       "  'Forge of Destiny',\n",
       "  'The Perfect Run'],\n",
       " ['The Law Unto Herself Chronicles',\n",
       "  'The War of the Vessel',\n",
       "  'The Mad One',\n",
       "  'Super!',\n",
       "  'Path of the Dominator',\n",
       "  'Omegas',\n",
       "  'Oktober',\n",
       "  'Mists of Kel Doran: Dragon-Touched',\n",
       "  'Metal Shadow',\n",
       "  'Legacy of Kail',\n",
       "  'Azarinth Healer',\n",
       "  'A Practical Guide to Evil',\n",
       "  'Beneath the Dragoneye Moons',\n",
       "  'The Wandering Inn',\n",
       "  'Salvos',\n",
       "  'Vigor Mortis',\n",
       "  'Metaworld Chronicles',\n",
       "  'Tower of Somnus',\n",
       "  'Forge of Destiny',\n",
       "  'The Perfect Run']]"
      ]
     },
     "execution_count": 195,
     "metadata": {},
     "output_type": "execute_result"
    }
   ],
   "source": [
    "related_stories[0:5]"
   ]
  }
 ],
 "metadata": {
  "kernelspec": {
   "display_name": "Python 3",
   "language": "python",
   "name": "python3"
  },
  "language_info": {
   "codemirror_mode": {
    "name": "ipython",
    "version": 3
   },
   "file_extension": ".py",
   "mimetype": "text/x-python",
   "name": "python",
   "nbconvert_exporter": "python",
   "pygments_lexer": "ipython3",
   "version": "3.8.8"
  }
 },
 "nbformat": 4,
 "nbformat_minor": 5
}
