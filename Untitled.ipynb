{
 "cells": [
  {
   "cell_type": "code",
   "execution_count": null,
   "id": "166f4b2f",
   "metadata": {},
   "outputs": [],
   "source": [
    "import re\n",
    "\n",
    "from bs4 import BeautifulSoup\n",
    "\n",
    "from scrapy.spiders import CrawlSpider\n",
    "from scrapy.item import Item, Field\n",
    "\n",
    "\n",
    "class Game(Item):\n",
    "    id = Field()\n",
    "    title = Field()\n",
    "    geek_rate = Field()\n",
    "    avg_rate = Field()\n",
    "    num_votes = Field()\n",
    "\n",
    "class GameSpider(CrawlSpider):\n",
    "    name = 'boardgamegeek_spider'\n",
    "    allowed_domains = ['boardgamegeek.com']\n",
    "    start_urls = ['http://www.boardgamegeek.com/browse/boardgame']\n",
    "    custom_settings = {'DOWNLOAD_DELAY': 1, 'BOT_NAME': 'Mr. Scraper Bot'}\n",
    "\n",
    "    def parse(self, response):\n",
    "        soup = BeautifulSoup(response.body, 'lxml')\n",
    "        next_page = soup.select('a[title^=\"next\"]')\n",
    "        if next_page:\n",
    "            next_page = next_page[0].get('href')\n",
    "        if next_page:\n",
    "            yield self.make_requests_from_url(response.urljoin(next_page))\n",
    "        rows = soup.select('tr#row_')\n",
    "        for row in rows:\n",
    "            g = Game()\n",
    "            a = row.find_all('a', href=re.compile('^/boardgame'))\n",
    "            for r in a:\n",
    "                if r.text:\n",
    "                    g['id'] = r.get('href').split('/')[2]\n",
    "                    g['title'] = r.text\n",
    "            geek_rate, avg_rate, num_votes = row.select('td.collection_bggrating')\n",
    "            g['geek_rate'] = geek_rate.text.strip()\n",
    "            g['avg_rate'] = avg_rate.text.strip()\n",
    "            g['num_votes'] = num_votes.text.strip()\n",
    "            \n",
    "            yield g"
   ]
  }
 ],
 "metadata": {
  "kernelspec": {
   "display_name": "Python 3",
   "language": "python",
   "name": "python3"
  },
  "language_info": {
   "codemirror_mode": {
    "name": "ipython",
    "version": 3
   },
   "file_extension": ".py",
   "mimetype": "text/x-python",
   "name": "python",
   "nbconvert_exporter": "python",
   "pygments_lexer": "ipython3",
   "version": "3.8.8"
  }
 },
 "nbformat": 4,
 "nbformat_minor": 5
}
